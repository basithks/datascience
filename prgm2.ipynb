{
  "nbformat": 4,
  "nbformat_minor": 0,
  "metadata": {
    "colab": {
      "provenance": [],
      "authorship_tag": "ABX9TyOfatVn9HvjmIxZXHlCzy5a",
      "include_colab_link": true
    },
    "kernelspec": {
      "name": "python3",
      "display_name": "Python 3"
    },
    "language_info": {
      "name": "python"
    }
  },
  "cells": [
    {
      "cell_type": "markdown",
      "metadata": {
        "id": "view-in-github",
        "colab_type": "text"
      },
      "source": [
        "<a href=\"https://colab.research.google.com/github/basithks/datascience/blob/main/prgm2.ipynb\" target=\"_parent\"><img src=\"https://colab.research.google.com/assets/colab-badge.svg\" alt=\"Open In Colab\"/></a>"
      ]
    },
    {
      "cell_type": "code",
      "execution_count": null,
      "metadata": {
        "id": "y4-3P36xGoC0",
        "colab": {
          "base_uri": "https://localhost:8080/"
        },
        "outputId": "1efde5f4-e467-4fb2-a804-d2f30983a494"
      },
      "outputs": [
        {
          "output_type": "stream",
          "name": "stdout",
          "text": [
            "Matrix 1:\n",
            " [[1 2 3]\n",
            " [4 5 6]\n",
            " [7 8 9]]\n",
            "Matrix 2:\n",
            " [[9 8 7]\n",
            " [6 5 4]\n",
            " [3 2 1]]\n",
            "Matrix Sum:\n",
            " [[10 10 10]\n",
            " [10 10 10]\n",
            " [10 10 10]]\n"
          ]
        }
      ],
      "source": [
        "import numpy as np\n",
        "matrix1 = np.array([[1, 2, 3], [4, 5, 6], [7, 8, 9]])\n",
        "matrix2 = np.array([[9, 8, 7], [6, 5, 4], [3, 2, 1]])\n",
        "matrix_sum = matrix1 + matrix2\n",
        "matrix_diff = matrix1 - matrix2\n",
        "matrix_product = matrix1 * matrix2\n",
        "matrix_divide = matrix1 / matrix2\n",
        "matrix_multiply = np.dot(matrix1, matrix2)\n",
        "matrix1_transpose = np.transpose(matrix1)\n",
        "diagonal_sum = np.trace(matrix1)\n",
        "\n",
        "print(\"Matrix 1:\\n\", matrix1)\n",
        "print(\"Matrix 2:\\n\", matrix2)\n",
        "print(\"Matrix Sum:\\n\", matrix_sum)\n"
      ]
    },
    {
      "cell_type": "code",
      "source": [
        "\n",
        "print(\"Matrix Difference:\\n\", matrix_diff)\n"
      ],
      "metadata": {
        "id": "skpXFUMHmi_d",
        "colab": {
          "base_uri": "https://localhost:8080/"
        },
        "outputId": "466bb9f1-205b-4cf8-92f6-221836a734e9"
      },
      "execution_count": null,
      "outputs": [
        {
          "output_type": "stream",
          "name": "stdout",
          "text": [
            "Matrix Difference:\n",
            " [[-8 -6 -4]\n",
            " [-2  0  2]\n",
            " [ 4  6  8]]\n"
          ]
        }
      ]
    },
    {
      "cell_type": "code",
      "source": [
        "print(\"Matrix Element-wise Product:\\n\", matrix_product)\n"
      ],
      "metadata": {
        "colab": {
          "base_uri": "https://localhost:8080/"
        },
        "id": "U0Q9d16sRNjZ",
        "outputId": "7154d7fa-0be9-466f-d767-73a006e353f6"
      },
      "execution_count": null,
      "outputs": [
        {
          "output_type": "stream",
          "name": "stdout",
          "text": [
            "Matrix Element-wise Product:\n",
            " [[ 9 16 21]\n",
            " [24 25 24]\n",
            " [21 16  9]]\n"
          ]
        }
      ]
    },
    {
      "cell_type": "code",
      "source": [
        "print(\"Matrix Element-wise Division:\\n\", matrix_divide)\n"
      ],
      "metadata": {
        "colab": {
          "base_uri": "https://localhost:8080/"
        },
        "id": "IVG4OjZwRP9x",
        "outputId": "28b2cf57-bbda-4e26-812b-0f1ec3f540ab"
      },
      "execution_count": null,
      "outputs": [
        {
          "output_type": "stream",
          "name": "stdout",
          "text": [
            "Matrix Element-wise Division:\n",
            " [[0.11111111 0.25       0.42857143]\n",
            " [0.66666667 1.         1.5       ]\n",
            " [2.33333333 4.         9.        ]]\n"
          ]
        }
      ]
    },
    {
      "cell_type": "code",
      "source": [
        "print(\"Matrix Multiplication:\\n\", matrix_multiply)\n"
      ],
      "metadata": {
        "colab": {
          "base_uri": "https://localhost:8080/"
        },
        "id": "q67fpHVzRS3_",
        "outputId": "45a090a2-6f2a-4364-dfb3-ed3a21342d37"
      },
      "execution_count": null,
      "outputs": [
        {
          "output_type": "stream",
          "name": "stdout",
          "text": [
            "Matrix Multiplication:\n",
            " [[ 30  24  18]\n",
            " [ 84  69  54]\n",
            " [138 114  90]]\n"
          ]
        }
      ]
    },
    {
      "cell_type": "code",
      "source": [
        "print(\"Transpose of Matrix 1:\\n\", matrix1_transpose)\n"
      ],
      "metadata": {
        "colab": {
          "base_uri": "https://localhost:8080/"
        },
        "id": "s2TdlvQuRUw2",
        "outputId": "b8c8b961-3a33-4299-c3a8-b183987b3134"
      },
      "execution_count": null,
      "outputs": [
        {
          "output_type": "stream",
          "name": "stdout",
          "text": [
            "Transpose of Matrix 1:\n",
            " [[1 4 7]\n",
            " [2 5 8]\n",
            " [3 6 9]]\n"
          ]
        }
      ]
    },
    {
      "cell_type": "code",
      "source": [
        "print(\"Sum of Diagonal Elements of Matrix 1:\", diagonal_sum)"
      ],
      "metadata": {
        "colab": {
          "base_uri": "https://localhost:8080/"
        },
        "id": "Citt2rDcRW0g",
        "outputId": "2a9fe7b0-56bc-484e-88dd-475a41bc06db"
      },
      "execution_count": null,
      "outputs": [
        {
          "output_type": "stream",
          "name": "stdout",
          "text": [
            "Sum of Diagonal Elements of Matrix 1: 15\n"
          ]
        }
      ]
    }
  ]
}