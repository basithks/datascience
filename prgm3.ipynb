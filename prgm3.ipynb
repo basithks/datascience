{
  "nbformat": 4,
  "nbformat_minor": 0,
  "metadata": {
    "colab": {
      "provenance": [],
      "authorship_tag": "ABX9TyPFlGqRphicXHTC3/4EME92",
      "include_colab_link": true
    },
    "kernelspec": {
      "name": "python3",
      "display_name": "Python 3"
    },
    "language_info": {
      "name": "python"
    }
  },
  "cells": [
    {
      "cell_type": "markdown",
      "metadata": {
        "id": "view-in-github",
        "colab_type": "text"
      },
      "source": [
        "<a href=\"https://colab.research.google.com/github/basithks/datascience/blob/main/prgm3.ipynb\" target=\"_parent\"><img src=\"https://colab.research.google.com/assets/colab-badge.svg\" alt=\"Open In Colab\"/></a>"
      ]
    },
    {
      "cell_type": "code",
      "execution_count": null,
      "metadata": {
        "colab": {
          "base_uri": "https://localhost:8080/"
        },
        "id": "KU2HH2UROjwm",
        "outputId": "5f53a8ec-8a04-4032-bd35-4d955074faff"
      },
      "outputs": [
        {
          "output_type": "stream",
          "name": "stdout",
          "text": [
            "Matrix X is :\n",
            " [[1 2]\n",
            " [3 4]]\n",
            "Matrix Y is: \n",
            " [[5 6]\n",
            " [7 8]]\n",
            "X^2= [[ 1  4]\n",
            " [ 9 16]]\n",
            "X^2+2*Y is \n",
            "  [[11 16]\n",
            " [23 32]]\n"
          ]
        }
      ],
      "source": [
        "import numpy as np;\n",
        "X = np.array([[1, 2], [3, 4]])\n",
        "Y = np.array([[5,6], [7,8]])\n",
        "print(\"Matrix X is :\\n\",X)\n",
        "print(\"Matrix Y is: \\n\",Y)\n",
        "a=np.power(X,2)\n",
        "print(\"X^2=\",a)\n",
        "result = a + 2* Y\n",
        "print(\"X^2+2*Y is \\n \",result)"
      ]
    }
  ]
}